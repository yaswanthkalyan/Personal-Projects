{
 "cells": [
  {
   "cell_type": "markdown",
   "metadata": {},
   "source": [
    "# Neural Networks\n",
    "\n"
   ]
  },
  {
   "cell_type": "code",
   "execution_count": 1,
   "metadata": {},
   "outputs": [
    {
     "name": "stdout",
     "output_type": "stream",
     "text": [
      "[[5.1 3.5 1.4 0.2]\n",
      " [4.9 3.  1.4 0.2]\n",
      " [4.7 3.2 1.3 0.2]]\n",
      "[[5.7 4.4 1.5 0.4]\n",
      " [5.4 3.9 1.3 0.4]\n",
      " [5.1 3.5 1.4 0.3]]\n",
      "[[4.9 3.6 1.4 0.1]\n",
      " [4.4 3.  1.3 0.2]\n",
      " [5.1 3.4 1.5 0.2]]\n"
     ]
    }
   ],
   "source": [
    "import numpy as np\n",
    "from sklearn.datasets import load_iris\n",
    "from sklearn.linear_model import Perceptron\n",
    "\n",
    "iris = load_iris()\n",
    "\n",
    "print(iris.data[:3])\n",
    "print(iris.data[15:18])\n",
    "print(iris.data[37:40])\n",
    "\n",
    "\n",
    "# we extract only the lengths and widthes of the petals:\n",
    "X = iris.data[:, (2, 3)]   "
   ]
  },
  {
   "cell_type": "code",
   "execution_count": 2,
   "metadata": {},
   "outputs": [
    {
     "name": "stdout",
     "output_type": "stream",
     "text": [
      "[0 0 0 0 0 0 0 0 0 0 0 0 0 0 0 0 0 0 0 0 0 0 0 0 0 0 0 0 0 0 0 0 0 0 0 0 0\n",
      " 0 0 0 0 0 0 0 0 0 0 0 0 0 1 1 1 1 1 1 1 1 1 1 1 1 1 1 1 1 1 1 1 1 1 1 1 1\n",
      " 1 1 1 1 1 1 1 1 1 1 1 1 1 1 1 1 1 1 1 1 1 1 1 1 1 1 2 2 2 2 2 2 2 2 2 2 2\n",
      " 2 2 2 2 2 2 2 2 2 2 2 2 2 2 2 2 2 2 2 2 2 2 2 2 2 2 2 2 2 2 2 2 2 2 2 2 2\n",
      " 2 2]\n"
     ]
    }
   ],
   "source": [
    "print(iris.target)"
   ]
  },
  {
   "cell_type": "code",
   "execution_count": 3,
   "metadata": {},
   "outputs": [
    {
     "name": "stdout",
     "output_type": "stream",
     "text": [
      "[1 1 1 1 1 1 1 1 1 1 1 1 1 1 1 1 1 1 1 1 1 1 1 1 1 1 1 1 1 1 1 1 1 1 1 1 1\n",
      " 1 1 1 1 1 1 1 1 1 1 1 1 1 0 0 0 0 0 0 0 0 0 0 0 0 0 0 0 0 0 0 0 0 0 0 0 0\n",
      " 0 0 0 0 0 0 0 0 0 0 0 0 0 0 0 0 0 0 0 0 0 0 0 0 0 0 0 0 0 0 0 0 0 0 0 0 0\n",
      " 0 0 0 0 0 0 0 0 0 0 0 0 0 0 0 0 0 0 0 0 0 0 0 0 0 0 0 0 0 0 0 0 0 0 0 0 0\n",
      " 0 0]\n"
     ]
    }
   ],
   "source": [
    "y = (iris.target==0).astype(np.int8)\n",
    "print(y)"
   ]
  },
  {
   "cell_type": "code",
   "execution_count": 4,
   "metadata": {},
   "outputs": [
    {
     "data": {
      "text/plain": [
       "Perceptron(alpha=0.0001, class_weight=None, early_stopping=False, eta0=1.0,\n",
       "           fit_intercept=True, max_iter=10, n_iter_no_change=5, n_jobs=None,\n",
       "           penalty=None, random_state=42, shuffle=True, tol=0.001,\n",
       "           validation_fraction=0.1, verbose=0, warm_start=False)"
      ]
     },
     "execution_count": 4,
     "metadata": {},
     "output_type": "execute_result"
    }
   ],
   "source": [
    "p = Perceptron(random_state=42,\n",
    "              max_iter=10,\n",
    "              tol=0.001)\n",
    "p.fit(X, y)"
   ]
  },
  {
   "cell_type": "code",
   "execution_count": 5,
   "metadata": {},
   "outputs": [
    {
     "name": "stdout",
     "output_type": "stream",
     "text": [
      "[array([1], dtype=int8)]\n",
      "[array([1], dtype=int8)]\n",
      "[array([1], dtype=int8)]\n",
      "[array([1], dtype=int8)]\n",
      "[array([1], dtype=int8)]\n",
      "[array([1], dtype=int8)]\n",
      "[array([1], dtype=int8)]\n",
      "[array([1], dtype=int8)]\n",
      "[array([1], dtype=int8)]\n",
      "[array([1], dtype=int8)]\n",
      "[array([1], dtype=int8)]\n",
      "[array([1], dtype=int8)]\n",
      "[array([1], dtype=int8)]\n",
      "[array([1], dtype=int8)]\n",
      "[array([1], dtype=int8)]\n",
      "[array([1], dtype=int8)]\n",
      "[array([1], dtype=int8)]\n",
      "[array([1], dtype=int8)]\n",
      "[array([1], dtype=int8)]\n",
      "[array([1], dtype=int8)]\n",
      "[array([1], dtype=int8)]\n",
      "[array([1], dtype=int8)]\n",
      "[array([1], dtype=int8)]\n",
      "[array([1], dtype=int8)]\n",
      "[array([1], dtype=int8)]\n",
      "[array([1], dtype=int8)]\n",
      "[array([1], dtype=int8)]\n",
      "[array([1], dtype=int8)]\n",
      "[array([1], dtype=int8)]\n",
      "[array([1], dtype=int8)]\n",
      "[array([1], dtype=int8)]\n",
      "[array([1], dtype=int8)]\n",
      "[array([1], dtype=int8)]\n",
      "[array([1], dtype=int8)]\n",
      "[array([1], dtype=int8)]\n",
      "[array([1], dtype=int8)]\n",
      "[array([1], dtype=int8)]\n",
      "[array([1], dtype=int8)]\n",
      "[array([1], dtype=int8)]\n",
      "[array([1], dtype=int8)]\n",
      "[array([1], dtype=int8)]\n",
      "[array([1], dtype=int8)]\n",
      "[array([1], dtype=int8)]\n",
      "[array([1], dtype=int8)]\n",
      "[array([1], dtype=int8)]\n",
      "[array([1], dtype=int8)]\n",
      "[array([1], dtype=int8)]\n",
      "[array([1], dtype=int8)]\n",
      "[array([1], dtype=int8)]\n",
      "[array([1], dtype=int8)]\n",
      "[array([0], dtype=int8)]\n",
      "[array([0], dtype=int8)]\n",
      "[array([0], dtype=int8)]\n",
      "[array([0], dtype=int8)]\n",
      "[array([0], dtype=int8)]\n",
      "[array([0], dtype=int8)]\n",
      "[array([0], dtype=int8)]\n",
      "[array([0], dtype=int8)]\n",
      "[array([0], dtype=int8)]\n",
      "[array([0], dtype=int8)]\n",
      "[array([0], dtype=int8)]\n",
      "[array([0], dtype=int8)]\n",
      "[array([0], dtype=int8)]\n",
      "[array([0], dtype=int8)]\n",
      "[array([0], dtype=int8)]\n",
      "[array([0], dtype=int8)]\n",
      "[array([0], dtype=int8)]\n",
      "[array([0], dtype=int8)]\n",
      "[array([0], dtype=int8)]\n",
      "[array([0], dtype=int8)]\n",
      "[array([0], dtype=int8)]\n",
      "[array([0], dtype=int8)]\n",
      "[array([0], dtype=int8)]\n",
      "[array([0], dtype=int8)]\n",
      "[array([0], dtype=int8)]\n",
      "[array([0], dtype=int8)]\n",
      "[array([0], dtype=int8)]\n",
      "[array([0], dtype=int8)]\n",
      "[array([0], dtype=int8)]\n",
      "[array([0], dtype=int8)]\n",
      "[array([0], dtype=int8)]\n",
      "[array([0], dtype=int8)]\n",
      "[array([0], dtype=int8)]\n",
      "[array([0], dtype=int8)]\n",
      "[array([0], dtype=int8)]\n",
      "[array([0], dtype=int8)]\n",
      "[array([0], dtype=int8)]\n",
      "[array([0], dtype=int8)]\n",
      "[array([0], dtype=int8)]\n",
      "[array([0], dtype=int8)]\n",
      "[array([0], dtype=int8)]\n",
      "[array([0], dtype=int8)]\n",
      "[array([0], dtype=int8)]\n",
      "[array([0], dtype=int8)]\n",
      "[array([0], dtype=int8)]\n",
      "[array([0], dtype=int8)]\n",
      "[array([0], dtype=int8)]\n",
      "[array([0], dtype=int8)]\n",
      "[array([0], dtype=int8)]\n",
      "[array([0], dtype=int8)]\n",
      "[array([0], dtype=int8)]\n",
      "[array([0], dtype=int8)]\n",
      "[array([0], dtype=int8)]\n",
      "[array([0], dtype=int8)]\n",
      "[array([0], dtype=int8)]\n",
      "[array([0], dtype=int8)]\n",
      "[array([0], dtype=int8)]\n",
      "[array([0], dtype=int8)]\n",
      "[array([0], dtype=int8)]\n",
      "[array([0], dtype=int8)]\n",
      "[array([0], dtype=int8)]\n",
      "[array([0], dtype=int8)]\n",
      "[array([0], dtype=int8)]\n",
      "[array([0], dtype=int8)]\n",
      "[array([0], dtype=int8)]\n",
      "[array([0], dtype=int8)]\n",
      "[array([0], dtype=int8)]\n",
      "[array([0], dtype=int8)]\n",
      "[array([0], dtype=int8)]\n",
      "[array([0], dtype=int8)]\n",
      "[array([0], dtype=int8)]\n",
      "[array([0], dtype=int8)]\n",
      "[array([0], dtype=int8)]\n",
      "[array([0], dtype=int8)]\n",
      "[array([0], dtype=int8)]\n",
      "[array([0], dtype=int8)]\n",
      "[array([0], dtype=int8)]\n",
      "[array([0], dtype=int8)]\n",
      "[array([0], dtype=int8)]\n",
      "[array([0], dtype=int8)]\n",
      "[array([0], dtype=int8)]\n",
      "[array([0], dtype=int8)]\n",
      "[array([0], dtype=int8)]\n",
      "[array([0], dtype=int8)]\n",
      "[array([0], dtype=int8)]\n",
      "[array([0], dtype=int8)]\n",
      "[array([0], dtype=int8)]\n",
      "[array([0], dtype=int8)]\n",
      "[array([0], dtype=int8)]\n",
      "[array([0], dtype=int8)]\n",
      "[array([0], dtype=int8)]\n",
      "[array([0], dtype=int8)]\n",
      "[array([0], dtype=int8)]\n",
      "[array([0], dtype=int8)]\n",
      "[array([0], dtype=int8)]\n",
      "[array([0], dtype=int8)]\n",
      "[array([0], dtype=int8)]\n",
      "[array([0], dtype=int8)]\n",
      "[array([0], dtype=int8)]\n",
      "[array([0], dtype=int8)]\n"
     ]
    }
   ],
   "source": [
    "values = [[1.5, 0.1], [1.8, 0.4], [1.3,0.2]]\n",
    "\n",
    "for value in X:\n",
    "    pred = p.predict([value])\n",
    "    print([pred])"
   ]
  },
  {
   "cell_type": "code",
   "execution_count": 6,
   "metadata": {},
   "outputs": [
    {
     "name": "stdout",
     "output_type": "stream",
     "text": [
      "MLPClassifier(activation='relu', alpha=1e-05, batch_size='auto', beta_1=0.9,\n",
      "              beta_2=0.999, early_stopping=False, epsilon=1e-08,\n",
      "              hidden_layer_sizes=(5, 2), learning_rate='constant',\n",
      "              learning_rate_init=0.001, max_iter=200, momentum=0.9,\n",
      "              n_iter_no_change=10, nesterovs_momentum=True, power_t=0.5,\n",
      "              random_state=1, shuffle=True, solver='lbfgs', tol=0.0001,\n",
      "              validation_fraction=0.1, verbose=False, warm_start=False)\n"
     ]
    }
   ],
   "source": [
    "from sklearn.neural_network import MLPClassifier\n",
    "X = [[0., 0.], [0., 1.], [1., 0.], [1., 1.]]\n",
    "y = [0, 0, 0, 1]\n",
    "clf = MLPClassifier(solver='lbfgs', alpha=1e-5,\n",
    "                    hidden_layer_sizes=(5, 2), random_state=1)\n",
    "\n",
    "print(clf.fit(X, y)) "
   ]
  },
  {
   "cell_type": "code",
   "execution_count": 7,
   "metadata": {},
   "outputs": [
    {
     "name": "stdout",
     "output_type": "stream",
     "text": [
      "weights between input and first hidden layer:\n",
      "[[-0.14203691 -1.18304359 -0.85567518 -4.53250719 -0.60466275]\n",
      " [-0.69781111 -3.5850093  -0.26436018 -4.39161248  0.06644423]]\n",
      "\n",
      "weights between first hidden and second hidden layer:\n",
      "[[ 0.29179638 -0.14155284]\n",
      " [ 4.02666592 -0.61556475]\n",
      " [-0.51677234  0.51479708]\n",
      " [ 7.37215202 -0.31936965]\n",
      " [ 0.32920668  0.64428109]]\n"
     ]
    }
   ],
   "source": [
    "print(\"weights between input and first hidden layer:\")\n",
    "print(clf.coefs_[0])\n",
    "print(\"\\nweights between first hidden and second hidden layer:\")\n",
    "print(clf.coefs_[1])"
   ]
  },
  {
   "cell_type": "code",
   "execution_count": 8,
   "metadata": {},
   "outputs": [
    {
     "name": "stdout",
     "output_type": "stream",
     "text": [
      "w0 =  -0.1420369126782716\n",
      "w1 =  -0.6978111149778672\n"
     ]
    }
   ],
   "source": [
    "print(\"w0 = \", clf.coefs_[0][0][0])\n",
    "print(\"w1 = \", clf.coefs_[0][1][0])"
   ]
  },
  {
   "cell_type": "code",
   "execution_count": 9,
   "metadata": {},
   "outputs": [
    {
     "data": {
      "text/plain": [
       "array([-0.14203691, -0.69781111])"
      ]
     },
     "execution_count": 9,
     "metadata": {},
     "output_type": "execute_result"
    }
   ],
   "source": [
    "clf.coefs_[0][:,0]"
   ]
  },
  {
   "cell_type": "code",
   "execution_count": 10,
   "metadata": {},
   "outputs": [
    {
     "name": "stdout",
     "output_type": "stream",
     "text": [
      "0 0 [-0.14203691 -0.69781111], \n",
      "0 1 [-1.18304359 -3.5850093 ], \n",
      "0 2 [-0.85567518 -0.26436018], \n",
      "0 3 [-4.53250719 -4.39161248], \n",
      "0 4 [-0.60466275  0.06644423], \n",
      "\n",
      "1 0 [ 0.29179638  4.02666592 -0.51677234  7.37215202  0.32920668], \n",
      "1 1 [-0.14155284 -0.61556475  0.51479708 -0.31936965  0.64428109], \n",
      "\n",
      "2 0 [-4.96774269 -0.86330397], \n",
      "\n"
     ]
    }
   ],
   "source": [
    "for i in range(len(clf.coefs_)):\n",
    "    number_neurons_in_layer = clf.coefs_[i].shape[1]\n",
    "    for j in range(number_neurons_in_layer):\n",
    "        weights = clf.coefs_[i][:,j]\n",
    "        print(i, j, weights, end=\", \")\n",
    "        print()\n",
    "    print()"
   ]
  },
  {
   "cell_type": "code",
   "execution_count": 11,
   "metadata": {},
   "outputs": [
    {
     "name": "stdout",
     "output_type": "stream",
     "text": [
      "Bias values for first hidden layer:\n",
      "[-0.14962269 -0.59232707 -0.5472481   7.02667699 -0.87510813]\n",
      "\n",
      "Bias values for second hidden layer:\n",
      "[-3.61417672 -0.76834882]\n"
     ]
    }
   ],
   "source": [
    "print(\"Bias values for first hidden layer:\")\n",
    "print(clf.intercepts_[0])\n",
    "print(\"\\nBias values for second hidden layer:\")\n",
    "print(clf.intercepts_[1])"
   ]
  },
  {
   "cell_type": "code",
   "execution_count": 12,
   "metadata": {},
   "outputs": [],
   "source": [
    "result = clf.predict([[0, 0], [0, 1], \n",
    "                      [1, 0], [0, 1], \n",
    "                      [1, 1], [2., 2.],\n",
    "                      [1.3, 1.3], [2, 4.8]])"
   ]
  },
  {
   "cell_type": "code",
   "execution_count": 14,
   "metadata": {},
   "outputs": [
    {
     "name": "stdout",
     "output_type": "stream",
     "text": [
      "[[1.00000000e+000 5.25723951e-101]\n",
      " [1.00000000e+000 3.71534882e-031]\n",
      " [1.00000000e+000 6.47069178e-029]\n",
      " [1.00000000e+000 3.71534882e-031]\n",
      " [2.07145538e-004 9.99792854e-001]\n",
      " [2.07145538e-004 9.99792854e-001]\n",
      " [2.07145538e-004 9.99792854e-001]\n",
      " [2.07145538e-004 9.99792854e-001]]\n"
     ]
    }
   ],
   "source": [
    "prob_results = clf.predict_proba([[0, 0], [0, 1], \n",
    "                                  [1, 0], [0, 1], \n",
    "                                  [1, 1], [2., 2.], \n",
    "                                  [1.3, 1.3], [2, 4.8]])\n",
    "print(prob_results)"
   ]
  },
  {
   "cell_type": "code",
   "execution_count": null,
   "metadata": {},
   "outputs": [],
   "source": []
  }
 ],
 "metadata": {
  "kernelspec": {
   "display_name": "Python 3",
   "language": "python",
   "name": "python3"
  },
  "language_info": {
   "codemirror_mode": {
    "name": "ipython",
    "version": 3
   },
   "file_extension": ".py",
   "mimetype": "text/x-python",
   "name": "python",
   "nbconvert_exporter": "python",
   "pygments_lexer": "ipython3",
   "version": "3.7.6"
  }
 },
 "nbformat": 4,
 "nbformat_minor": 2
}
